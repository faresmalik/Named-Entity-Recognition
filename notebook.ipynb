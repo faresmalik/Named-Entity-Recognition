{
 "cells": [
  {
   "cell_type": "code",
   "execution_count": 13,
   "metadata": {},
   "outputs": [
    {
     "name": "stdout",
     "output_type": "stream",
     "text": [
      "The autoreload extension is already loaded. To reload it, use:\n",
      "  %reload_ext autoreload\n"
     ]
    }
   ],
   "source": [
    "import torch \n",
    "import os \n",
    "import random \n",
    "from torch.utils.data import DataLoader\n",
    "import matplotlib.pyplot as plt \n",
    "from tqdm import tqdm\n",
    "\n",
    "from utils import sent_to_tensor, read_txt_file,get_vocab_tag\n",
    "from dataset import Data_class\n",
    "from model import NER_model\n",
    "from predict import predict\n",
    "from trainer_evaluater import Trainer_Evaluater\n",
    "\n",
    "os.environ[\"CUDA_DEVICE_ORDER\"]=\"PCI_BUS_ID\" \n",
    "os.environ[\"CUDA_VISIBLE_DEVICES\"]=\"3\"\n",
    "\n",
    "%load_ext autoreload\n",
    "%autoreload 2\n",
    "\n",
    "CUDA_LAUNCH_BLOCKING=1\n",
    "\n",
    "random.seed(32)"
   ]
  },
  {
   "cell_type": "code",
   "execution_count": 2,
   "metadata": {},
   "outputs": [],
   "source": [
    "#Set device to CUDA if available. Otherwise, device = CPU \n",
    "device = 'cuda'if torch.cuda.is_available() else 'cpu'\n",
    "\n",
    "# Data directory  \n",
    "#======== Change this dir if you downloaded the data in another folder ==========\n",
    "data_dir = './data' \n",
    "\n",
    "#Set the max_length (length of sequence) and batch_size \n",
    "max_length = 50\n",
    "batch_size = 64 \n",
    "\n",
    "#Params for the NER model\n",
    "num_lstm_layers = 3 \n",
    "hidden_dim = 256\n",
    "\n",
    "#Learning rate and number of epochs\n",
    "lr = 0.001\n",
    "num_epochs = 20\n",
    "\n",
    "#print loss and acc every number of epochs \n",
    "print_every = 10"
   ]
  },
  {
   "cell_type": "code",
   "execution_count": 3,
   "metadata": {},
   "outputs": [
    {
     "name": "stdout",
     "output_type": "stream",
     "text": [
      "Check the length of sentences/labels\n",
      "Length of training sample: 33570 \t Length of training labels: 33570\n",
      "Length of val sample: 7194 \t Length of val labels: 7194\n",
      "Length of test sample: 7194 \t Length of test labels: 7194\n"
     ]
    }
   ],
   "source": [
    "#Get vocabulary as list of words and tags as list of tags\n",
    "vocab_sent = read_txt_file(os.path.join(data_dir,'words.txt'))\n",
    "vocab_tags = read_txt_file(os.path.join(data_dir,'tags.txt'))\n",
    "\n",
    "#Get train/val/test sentences as list\n",
    "train_sent = read_txt_file(os.path.join(data_dir,'train/sentences.txt'))\n",
    "train_labels = read_txt_file(os.path.join(data_dir,'train/labels.txt'))\n",
    "\n",
    "val_sent = read_txt_file(os.path.join(data_dir,'val/sentences.txt'))\n",
    "val_labels = read_txt_file(os.path.join(data_dir,'val/labels.txt'))\n",
    "\n",
    "test_sent = read_txt_file(os.path.join(data_dir,'test/sentences.txt'))\n",
    "test_labels = read_txt_file(os.path.join(data_dir,'test/labels.txt'))\n",
    "\n",
    "#Check the number of sentences and labels in each subset\n",
    "print('Check the length of sentences/labels')\n",
    "print(f'Length of training sample: {len(train_sent)} \\t Length of training labels: {len(train_labels)}')\n",
    "print(f'Length of val sample: {len(val_sent)} \\t Length of val labels: {len(val_labels)}')\n",
    "print(f'Length of test sample: {len(test_sent)} \\t Length of test labels: {len(test_labels)}')"
   ]
  },
  {
   "cell_type": "code",
   "execution_count": 4,
   "metadata": {},
   "outputs": [
    {
     "name": "stdout",
     "output_type": "stream",
     "text": [
      "vocab[\"the\"] = 9 \t vocab[\"The\"] = 61 \t padded_token = 35180\n",
      "Length of words vocabulary = 35181\n",
      "Length of tag vocabulary = 18\n"
     ]
    }
   ],
   "source": [
    "#Get voabculary and tags dict, maps each tag and word to int. \n",
    "vocab, tag_map = get_vocab_tag(vocab_sent = vocab_sent, vocab_tags = vocab_tags , padding = '<PAD>')\n",
    "\n",
    "#Check the vocab and tag_map\n",
    "print(f'vocab[\"the\"] = {vocab[\"the\"]} \\t vocab[\"The\"] = {vocab[\"The\"]} \\t padded_token = {vocab[\"<PAD>\"]}')\n",
    "print(f'Length of words vocabulary = {len(vocab)}')\n",
    "print(f'Length of tag vocabulary = {len(tag_map)}')\n"
   ]
  },
  {
   "cell_type": "code",
   "execution_count": 5,
   "metadata": {},
   "outputs": [],
   "source": [
    "#Get the sentences and labels as tensor of int \n",
    "#Map each word to int (from vocab) and each tag to int (from tag_map)\n",
    "\n",
    "train_tensors, train_labels_tensor = sent_to_tensor(vocab, tag_map, sentences = train_sent, labels = train_labels)\n",
    "val_tensors, val_labels_tensor = sent_to_tensor(vocab, tag_map, sentences = val_sent, labels = train_labels)\n",
    "test_tensors, test_labels_tensor = sent_to_tensor(vocab, tag_map, sentences = test_sent, labels = train_labels)"
   ]
  },
  {
   "cell_type": "code",
   "execution_count": 6,
   "metadata": {},
   "outputs": [
    {
     "data": {
      "image/png": "[encoded data removed]",
      "text/plain": [
       "<Figure size 432x288 with 1 Axes>"
      ]
     },
     "metadata": {
      "needs_background": "light"
     },
     "output_type": "display_data"
    }
   ],
   "source": [
    "#Distribution of the sequence length\n",
    "\n",
    "length = [len(s.split(' ')) for s in train_sent]\n",
    "plt.hist(length, bins = 50)\n",
    "plt.title('Distribution of Sequence Lengths')\n",
    "plt.show()"
   ]
  },
  {
   "cell_type": "code",
   "execution_count": 7,
   "metadata": {},
   "outputs": [],
   "source": [
    "#Create Dataset for train/test\n",
    "train_dataset = Data_class(vocab, tag_map, train_sent, train_labels, max_length=max_length)\n",
    "test_dataset = Data_class(vocab, tag_map, test_sent, test_labels, max_length=max_length)\n",
    "\n",
    "#Create DataLoader for train/test\n",
    "train_loader = DataLoader(train_dataset, batch_size=batch_size, shuffle=True)\n",
    "test_loader = DataLoader(test_dataset, batch_size=batch_size, shuffle=False)"
   ]
  },
  {
   "cell_type": "code",
   "execution_count": 8,
   "metadata": {},
   "outputs": [],
   "source": [
    "#Instantiate model object\n",
    "model = NER_model( vocab = vocab, tag_map= tag_map, num_layers= num_lstm_layers, d_model = hidden_dim).to(device)\n",
    "\n",
    "#Define optimizer and criterion \n",
    "optimizer = torch.optim.Adam(model.parameters(), lr = lr)\n",
    "criterion = torch.nn.CrossEntropyLoss()"
   ]
  },
  {
   "cell_type": "code",
   "execution_count": 9,
   "metadata": {},
   "outputs": [],
   "source": [
    "#Instantiate an object to train and evaluate the NER model. \n",
    "trainer = Trainer_Evaluater(\n",
    "    model = model, num_epochs = num_epochs,\n",
    "    optimizer = optimizer,tag_map = tag_map, vocab = vocab,\n",
    "    device = device, criterion = criterion, print_every = print_every\n",
    "    )"
   ]
  },
  {
   "cell_type": "code",
   "execution_count": 10,
   "metadata": {},
   "outputs": [
    {
     "name": "stdout",
     "output_type": "stream",
     "text": [
      "============= Training ===================\n",
      "Epoch 1 / 20\n"
     ]
    },
    {
     "name": "stderr",
     "output_type": "stream",
     "text": [
      "100%|██████████| 525/525 [00:09<00:00, 53.23it/s]\n"
     ]
    },
    {
     "name": "stdout",
     "output_type": "stream",
     "text": [
      "Epoch 2 / 20\n"
     ]
    },
    {
     "name": "stderr",
     "output_type": "stream",
     "text": [
      "100%|██████████| 525/525 [00:09<00:00, 58.07it/s]\n"
     ]
    },
    {
     "name": "stdout",
     "output_type": "stream",
     "text": [
      "Epoch 3 / 20\n"
     ]
    },
    {
     "name": "stderr",
     "output_type": "stream",
     "text": [
      "100%|██████████| 525/525 [00:09<00:00, 56.75it/s]\n"
     ]
    },
    {
     "name": "stdout",
     "output_type": "stream",
     "text": [
      "Epoch 4 / 20\n"
     ]
    },
    {
     "name": "stderr",
     "output_type": "stream",
     "text": [
      "100%|██████████| 525/525 [00:09<00:00, 56.46it/s]\n"
     ]
    },
    {
     "name": "stdout",
     "output_type": "stream",
     "text": [
      "Epoch 5 / 20\n"
     ]
    },
    {
     "name": "stderr",
     "output_type": "stream",
     "text": [
      "100%|██████████| 525/525 [00:09<00:00, 56.20it/s]\n"
     ]
    },
    {
     "name": "stdout",
     "output_type": "stream",
     "text": [
      "Epoch 6 / 20\n"
     ]
    },
    {
     "name": "stderr",
     "output_type": "stream",
     "text": [
      "100%|██████████| 525/525 [00:09<00:00, 56.42it/s]\n"
     ]
    },
    {
     "name": "stdout",
     "output_type": "stream",
     "text": [
      "Epoch 7 / 20\n"
     ]
    },
    {
     "name": "stderr",
     "output_type": "stream",
     "text": [
      "100%|██████████| 525/525 [00:09<00:00, 53.95it/s]\n"
     ]
    },
    {
     "name": "stdout",
     "output_type": "stream",
     "text": [
      "Epoch 8 / 20\n"
     ]
    },
    {
     "name": "stderr",
     "output_type": "stream",
     "text": [
      "100%|██████████| 525/525 [00:09<00:00, 58.18it/s]\n"
     ]
    },
    {
     "name": "stdout",
     "output_type": "stream",
     "text": [
      "Epoch 9 / 20\n"
     ]
    },
    {
     "name": "stderr",
     "output_type": "stream",
     "text": [
      "100%|██████████| 525/525 [00:09<00:00, 55.46it/s]\n"
     ]
    },
    {
     "name": "stdout",
     "output_type": "stream",
     "text": [
      "Epoch 10 / 20\n"
     ]
    },
    {
     "name": "stderr",
     "output_type": "stream",
     "text": [
      "100%|██████████| 525/525 [00:09<00:00, 55.29it/s]\n"
     ]
    },
    {
     "name": "stdout",
     "output_type": "stream",
     "text": [
      "=======================\n",
      "Loss = 0.011\n",
      "Acc = 99.177%\n",
      "=======================\n",
      "Epoch 11 / 20\n"
     ]
    },
    {
     "name": "stderr",
     "output_type": "stream",
     "text": [
      "100%|██████████| 525/525 [00:09<00:00, 56.78it/s]\n"
     ]
    },
    {
     "name": "stdout",
     "output_type": "stream",
     "text": [
      "Epoch 12 / 20\n"
     ]
    },
    {
     "name": "stderr",
     "output_type": "stream",
     "text": [
      "100%|██████████| 525/525 [00:09<00:00, 55.54it/s]\n"
     ]
    },
    {
     "name": "stdout",
     "output_type": "stream",
     "text": [
      "Epoch 13 / 20\n"
     ]
    },
    {
     "name": "stderr",
     "output_type": "stream",
     "text": [
      "100%|██████████| 525/525 [00:08<00:00, 58.75it/s]\n"
     ]
    },
    {
     "name": "stdout",
     "output_type": "stream",
     "text": [
      "Epoch 14 / 20\n"
     ]
    },
    {
     "name": "stderr",
     "output_type": "stream",
     "text": [
      "100%|██████████| 525/525 [00:08<00:00, 58.92it/s]\n"
     ]
    },
    {
     "name": "stdout",
     "output_type": "stream",
     "text": [
      "Epoch 15 / 20\n"
     ]
    },
    {
     "name": "stderr",
     "output_type": "stream",
     "text": [
      "100%|██████████| 525/525 [00:08<00:00, 60.14it/s]\n"
     ]
    },
    {
     "name": "stdout",
     "output_type": "stream",
     "text": [
      "Epoch 16 / 20\n"
     ]
    },
    {
     "name": "stderr",
     "output_type": "stream",
     "text": [
      "100%|██████████| 525/525 [00:08<00:00, 59.13it/s]\n"
     ]
    },
    {
     "name": "stdout",
     "output_type": "stream",
     "text": [
      "Epoch 17 / 20\n"
     ]
    },
    {
     "name": "stderr",
     "output_type": "stream",
     "text": [
      "100%|██████████| 525/525 [00:08<00:00, 61.41it/s]\n"
     ]
    },
    {
     "name": "stdout",
     "output_type": "stream",
     "text": [
      "Epoch 18 / 20\n"
     ]
    },
    {
     "name": "stderr",
     "output_type": "stream",
     "text": [
      "100%|██████████| 525/525 [00:09<00:00, 57.76it/s]\n"
     ]
    },
    {
     "name": "stdout",
     "output_type": "stream",
     "text": [
      "Epoch 19 / 20\n"
     ]
    },
    {
     "name": "stderr",
     "output_type": "stream",
     "text": [
      "100%|██████████| 525/525 [00:08<00:00, 62.03it/s]\n"
     ]
    },
    {
     "name": "stdout",
     "output_type": "stream",
     "text": [
      "Epoch 20 / 20\n"
     ]
    },
    {
     "name": "stderr",
     "output_type": "stream",
     "text": [
      "100%|██████████| 525/525 [00:08<00:00, 59.24it/s]\n"
     ]
    },
    {
     "name": "stdout",
     "output_type": "stream",
     "text": [
      "=======================\n",
      "Loss = 0.006\n",
      "Acc = 99.466%\n",
      "=======================\n",
      "============= Evaluation =================\n"
     ]
    },
    {
     "name": "stderr",
     "output_type": "stream",
     "text": [
      "100%|██████████| 113/113 [00:01<00:00, 109.44it/s]\n"
     ]
    }
   ],
   "source": [
    "#Train the model\n",
    "print('============= Training ===================')\n",
    "train_acc_list , train_loss_list = trainer.fit(train_loader = train_loader)\n",
    "\n",
    "print('============= Evaluation =================')\n",
    "#Evaluate on the Test set\n",
    "test_acc = trainer.evaluate(test_loader = test_loader)\n"
   ]
  },
  {
   "cell_type": "code",
   "execution_count": 30,
   "metadata": {},
   "outputs": [
    {
     "data": {
      "image/png": "[encoded data removed]",
      "text/plain": [
       "<Figure size 432x288 with 1 Axes>"
      ]
     },
     "metadata": {
      "needs_background": "light"
     },
     "output_type": "display_data"
    }
   ],
   "source": [
    "#plot loss and acc plots \n",
    "plt.plot([0] + train_acc_list,'--*',label='train_acc', color = 'red')\n",
    "plt.plot([0] + train_loss_list,'--o' ,label= 'train_loss', color = 'black')\n",
    "plt.xticks([i for i in range(num_epochs+1)])\n",
    "plt.xlabel('Epochs')\n",
    "plt.grid()\n",
    "plt.legend()\n",
    "plt.show()"
   ]
  },
  {
   "cell_type": "code",
   "execution_count": 19,
   "metadata": {},
   "outputs": [
    {
     "name": "stdout",
     "output_type": "stream",
     "text": [
      "The input sentence\n",
      "George Alexander will come from France to Dubai, he will stay for three weeks.\n",
      "================================ \n",
      "The word tags are:\n",
      "George \t B-per\n",
      "Alexander \t I-per\n",
      "France \t B-geo\n",
      "Dubai, \t B-geo\n",
      "three \t B-tim\n",
      "weeks. \t I-tim\n"
     ]
    }
   ],
   "source": [
    "sentence = input('Enter your sentence to get the result from NER model')\n",
    "print(f'The input sentence')\n",
    "print(sentence)\n",
    "print('================================ ')\n",
    "print('The word tags are:')\n",
    "predictions = trainer.predict(sentence)"
   ]
  },
  {
   "cell_type": "code",
   "execution_count": 18,
   "metadata": {},
   "outputs": [
    {
     "name": "stdout",
     "output_type": "stream",
     "text": [
      "George Alexander will come from France to Dubai, he will stay for three weeks. \n",
      "\n",
      "George B-per\n",
      "Alexander I-per\n",
      "France B-geo\n",
      "Dubai, B-geo\n",
      "three B-tim\n",
      "weeks. I-tim\n"
     ]
    }
   ],
   "source": [
    "# Inference: Run this cell, input your sentence to get the Result.\n",
    "sentence = input('Enter your sentence to get the result from NER model')\n",
    "print(sentence, '\\n')\n",
    "model.eval()\n",
    "predictions = predict(sentence, model, vocab, tag_map)"
   ]
  }
 ],
 "metadata": {
  "kernelspec": {
   "display_name": "Python 3.9.7 ('transformer-env': conda)",
   "language": "python",
   "name": "python3"
  },
  "language_info": {
   "codemirror_mode": {
    "name": "ipython",
    "version": 3
   },
   "file_extension": ".py",
   "mimetype": "text/x-python",
   "name": "python",
   "nbconvert_exporter": "python",
   "pygments_lexer": "ipython3",
   "version": "3.9.7"
  },
  "orig_nbformat": 4,
  "vscode": {
   "interpreter": {
    "hash": "37906e3799e3dad222cfed0447967870e65218c8bdbf06cfd0739074c03b6910"
   }
  }
 },
 "nbformat": 4,
 "nbformat_minor": 2
}
