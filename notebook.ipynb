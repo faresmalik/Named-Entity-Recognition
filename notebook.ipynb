{
 "cells": [
  {
   "cell_type": "code",
   "execution_count": 2,
   "metadata": {},
   "outputs": [
    {
     "name": "stdout",
     "output_type": "stream",
     "text": [
      "The autoreload extension is already loaded. To reload it, use:\n",
      "  %reload_ext autoreload\n"
     ]
    }
   ],
   "source": [
    "import torch \n",
    "import os \n",
    "import random \n",
    "from utils import sent_to_tensor, read_txt_file,get_vocab_tag\n",
    "from dataset import Data_class\n",
    "from model import NER_model\n",
    "from predict import predict\n",
    "import matplotlib.pyplot as plt \n",
    "\n",
    "os.environ[\"CUDA_DEVICE_ORDER\"]=\"PCI_BUS_ID\" \n",
    "os.environ[\"CUDA_VISIBLE_DEVICES\"]=\"3\"\n",
    "\n",
    "%load_ext autoreload\n",
    "%autoreload 2\n",
    "\n",
    "CUDA_LAUNCH_BLOCKING=1\n",
    "\n",
    "random.seed(32)"
   ]
  },
  {
   "cell_type": "code",
   "execution_count": 13,
   "metadata": {},
   "outputs": [
    {
     "ename": "FileNotFoundError",
     "evalue": "[Errno 2] No such file or directory: './data/words.txt'",
     "output_type": "error",
     "traceback": [
      "\u001b[1;31m---------------------------------------------------------------------------\u001b[0m",
      "\u001b[1;31mFileNotFoundError\u001b[0m                         Traceback (most recent call last)",
      "\u001b[1;32m<ipython-input-13-6bffc08a116f>\u001b[0m in \u001b[0;36m<module>\u001b[1;34m\u001b[0m\n\u001b[1;32m----> 1\u001b[1;33m \u001b[0mvocab_sent\u001b[0m \u001b[1;33m=\u001b[0m \u001b[0mread_txt_file\u001b[0m\u001b[1;33m(\u001b[0m\u001b[1;34mr'./data/words.txt'\u001b[0m\u001b[1;33m)\u001b[0m\u001b[1;33m\u001b[0m\u001b[1;33m\u001b[0m\u001b[0m\n\u001b[0m\u001b[0;32m      2\u001b[0m \u001b[0mvocab_tags\u001b[0m \u001b[1;33m=\u001b[0m \u001b[0mread_txt_file\u001b[0m\u001b[1;33m(\u001b[0m\u001b[1;34mr'./data/tags.txt'\u001b[0m\u001b[1;33m)\u001b[0m\u001b[1;33m\u001b[0m\u001b[1;33m\u001b[0m\u001b[0m\n\u001b[0;32m      3\u001b[0m \u001b[1;33m\u001b[0m\u001b[0m\n\u001b[0;32m      4\u001b[0m \u001b[0mtrain_sent\u001b[0m \u001b[1;33m=\u001b[0m \u001b[0mread_txt_file\u001b[0m\u001b[1;33m(\u001b[0m\u001b[1;34m'./data/train/sentences.txt'\u001b[0m\u001b[1;33m)\u001b[0m\u001b[1;33m\u001b[0m\u001b[1;33m\u001b[0m\u001b[0m\n\u001b[0;32m      5\u001b[0m \u001b[0mtrain_labels\u001b[0m \u001b[1;33m=\u001b[0m \u001b[0mread_txt_file\u001b[0m\u001b[1;33m(\u001b[0m\u001b[1;34m'./data/train/labels.txt'\u001b[0m\u001b[1;33m)\u001b[0m\u001b[1;33m\u001b[0m\u001b[1;33m\u001b[0m\u001b[0m\n",
      "\u001b[1;32mc:\\Users\\fares\\Desktop\\Repos\\Named-Entity-Recognition\\utils.py\u001b[0m in \u001b[0;36mread_txt_file\u001b[1;34m(text_path, mode)\u001b[0m\n\u001b[0;32m     48\u001b[0m     \"\"\"\n\u001b[0;32m     49\u001b[0m \u001b[1;33m\u001b[0m\u001b[0m\n\u001b[1;32m---> 50\u001b[1;33m     \u001b[0mf\u001b[0m \u001b[1;33m=\u001b[0m \u001b[0mopen\u001b[0m\u001b[1;33m(\u001b[0m\u001b[0mtext_path\u001b[0m\u001b[1;33m,\u001b[0m \u001b[0mmode\u001b[0m\u001b[1;33m)\u001b[0m\u001b[1;33m\u001b[0m\u001b[1;33m\u001b[0m\u001b[0m\n\u001b[0m\u001b[0;32m     51\u001b[0m     \u001b[0mlist_sent\u001b[0m \u001b[1;33m=\u001b[0m \u001b[0mf\u001b[0m\u001b[1;33m.\u001b[0m\u001b[0mreadlines\u001b[0m\u001b[1;33m(\u001b[0m\u001b[1;33m)\u001b[0m\u001b[1;33m\u001b[0m\u001b[1;33m\u001b[0m\u001b[0m\n\u001b[0;32m     52\u001b[0m     \u001b[0mlist_sent\u001b[0m \u001b[1;33m=\u001b[0m \u001b[1;33m[\u001b[0m\u001b[0mline\u001b[0m\u001b[1;33m.\u001b[0m\u001b[0mrstrip\u001b[0m\u001b[1;33m(\u001b[0m\u001b[1;34m'\\n'\u001b[0m\u001b[1;33m)\u001b[0m \u001b[1;32mfor\u001b[0m \u001b[0mline\u001b[0m \u001b[1;32min\u001b[0m \u001b[0mlist_sent\u001b[0m\u001b[1;33m]\u001b[0m\u001b[1;33m\u001b[0m\u001b[1;33m\u001b[0m\u001b[0m\n",
      "\u001b[1;31mFileNotFoundError\u001b[0m: [Errno 2] No such file or directory: './data/words.txt'"
     ]
    }
   ],
   "source": [
    "vocab_sent = read_txt_file('./data/words.txt')\n",
    "vocab_tags = read_txt_file('./data/tags.txt')\n",
    "\n",
    "train_sent = read_txt_file('./data/train/sentences.txt')\n",
    "train_labels = read_txt_file('./data/train/labels.txt')\n",
    "\n",
    "val_sent = read_txt_file('./data/val/sentences.txt')\n",
    "val_labels = read_txt_file('./data/val/labels.txt')\n",
    "\n",
    "test_sent = read_txt_file('./data/test/sentences.txt')\n",
    "test_labels = read_txt_file('./data/test/labels.txt')\n",
    "\n",
    "print('Check the length of sentences/labels')\n",
    "print(f'Length of training sample: {len(train_sent)} \\t Length of training labels: {len(train_labels)}')\n",
    "print(f'Length of val sample: {len(val_sent)} \\t Length of val labels: {len(val_labels)}')\n",
    "print(f'Length of test sample: {len(test_sent)} \\t Length of test labels: {len(test_labels)}')"
   ]
  },
  {
   "cell_type": "code",
   "execution_count": 3,
   "metadata": {},
   "outputs": [
    {
     "name": "stdout",
     "output_type": "stream",
     "text": [
      "vocab[\"the\"] = 9 \t vocab[\"The\"] = 61 \t padded_token = 35180\n",
      "Length of words vocabulary = 35181\n",
      "Length of tag vocabulary = 18\n"
     ]
    }
   ],
   "source": [
    "vocab, tag_map = get_vocab_tag(vocab_sent = vocab_sent, vocab_tags = vocab_tags , padding = '<PAD>')\n",
    "\n",
    "print(f'vocab[\"the\"] = {vocab[\"the\"]} \\t vocab[\"The\"] = {vocab[\"The\"]} \\t padded_token = {vocab[\"<PAD>\"]}')\n",
    "print(f'Length of words vocabulary = {len(vocab)}')\n",
    "print(f'Length of tag vocabulary = {len(tag_map)}')\n"
   ]
  },
  {
   "cell_type": "code",
   "execution_count": 4,
   "metadata": {},
   "outputs": [],
   "source": [
    "train_tensors, train_labels_tensor = sent_to_tensor(vocab, tag_map, sentences = train_sent, labels = train_labels)\n",
    "val_tensors, val_labels_tensor = sent_to_tensor(vocab, tag_map, sentences = val_sent, labels = train_labels)\n",
    "test_tensors, test_labels_tensor = sent_to_tensor(vocab, tag_map, sentences = test_sent, labels = train_labels)"
   ]
  },
  {
   "cell_type": "code",
   "execution_count": 10,
   "metadata": {},
   "outputs": [
    {
     "data": {
      "image/png": "[encoded data removed]",
      "text/plain": [
       "<Figure size 432x288 with 1 Axes>"
      ]
     },
     "metadata": {
      "needs_background": "light"
     },
     "output_type": "display_data"
    }
   ],
   "source": [
    "length = [len(s.split(' ')) for s in train_sent]\n",
    "plt.hist(length, bins = 50)\n",
    "plt.title('Distribution of Sequence Lengths')\n",
    "plt.show()"
   ]
  },
  {
   "cell_type": "code",
   "execution_count": 6,
   "metadata": {},
   "outputs": [],
   "source": [
    "max_length = 50\n",
    "train_dataset = Data_class(vocab, tag_map, train_sent, train_labels, max_length=max_length)\n",
    "train_loader = DataLoader(train_dataset, batch_size=64, shuffle=True)"
   ]
  },
  {
   "cell_type": "code",
   "execution_count": 7,
   "metadata": {},
   "outputs": [],
   "source": [
    "model = NER_model( vocab = vocab, tag_map= tag_map, num_layers= 1, d_model = 32).cuda()\n",
    "\n",
    "optimizer = torch.optim.Adam(model.parameters(), lr = 0.01)\n",
    "criterion = torch.nn.CrossEntropyLoss()\n",
    "num_epochs = 10"
   ]
  },
  {
   "cell_type": "code",
   "execution_count": 8,
   "metadata": {},
   "outputs": [
    {
     "name": "stdout",
     "output_type": "stream",
     "text": [
      "Epoch 1 / 10\n"
     ]
    },
    {
     "name": "stderr",
     "output_type": "stream",
     "text": [
      "100%|██████████| 525/525 [00:06<00:00, 85.47it/s] \n"
     ]
    },
    {
     "name": "stdout",
     "output_type": "stream",
     "text": [
      "Loss = 0.18328095558143798\n",
      "Acc = 0.9062172243542472\n",
      "=======================\n",
      "Epoch 2 / 10\n"
     ]
    },
    {
     "name": "stderr",
     "output_type": "stream",
     "text": [
      "100%|██████████| 525/525 [00:05<00:00, 95.60it/s] \n"
     ]
    },
    {
     "name": "stdout",
     "output_type": "stream",
     "text": [
      "Loss = 0.060751429320800875\n",
      "Acc = 0.9587937130231661\n",
      "=======================\n",
      "Epoch 3 / 10\n"
     ]
    },
    {
     "name": "stderr",
     "output_type": "stream",
     "text": [
      "100%|██████████| 525/525 [00:05<00:00, 97.14it/s] \n"
     ]
    },
    {
     "name": "stdout",
     "output_type": "stream",
     "text": [
      "Loss = 0.04611835491444383\n",
      "Acc = 0.9670278923301899\n",
      "=======================\n",
      "Epoch 4 / 10\n"
     ]
    },
    {
     "name": "stderr",
     "output_type": "stream",
     "text": [
      "100%|██████████| 525/525 [00:04<00:00, 105.11it/s]\n"
     ]
    },
    {
     "name": "stdout",
     "output_type": "stream",
     "text": [
      "Loss = 0.039507353348391394\n",
      "Acc = 0.9710993175467012\n",
      "=======================\n",
      "Epoch 5 / 10\n"
     ]
    },
    {
     "name": "stderr",
     "output_type": "stream",
     "text": [
      "100%|██████████| 525/525 [00:05<00:00, 103.34it/s]\n"
     ]
    },
    {
     "name": "stdout",
     "output_type": "stream",
     "text": [
      "Loss = 0.03507554371796903\n",
      "Acc = 0.9736743130459259\n",
      "=======================\n",
      "Epoch 6 / 10\n"
     ]
    },
    {
     "name": "stderr",
     "output_type": "stream",
     "text": [
      "100%|██████████| 525/525 [00:04<00:00, 109.22it/s]\n"
     ]
    },
    {
     "name": "stdout",
     "output_type": "stream",
     "text": [
      "Loss = 0.03201883153546424\n",
      "Acc = 0.9757277407692375\n",
      "=======================\n",
      "Epoch 7 / 10\n"
     ]
    },
    {
     "name": "stderr",
     "output_type": "stream",
     "text": [
      "100%|██████████| 525/525 [00:05<00:00, 101.46it/s]\n"
     ]
    },
    {
     "name": "stdout",
     "output_type": "stream",
     "text": [
      "Loss = 0.02931655660803829\n",
      "Acc = 0.9773321808577984\n",
      "=======================\n",
      "Epoch 8 / 10\n"
     ]
    },
    {
     "name": "stderr",
     "output_type": "stream",
     "text": [
      "100%|██████████| 525/525 [00:05<00:00, 97.56it/s] \n"
     ]
    },
    {
     "name": "stdout",
     "output_type": "stream",
     "text": [
      "Loss = 0.02680129857112964\n",
      "Acc = 0.9791998930704282\n",
      "=======================\n",
      "Epoch 9 / 10\n"
     ]
    },
    {
     "name": "stderr",
     "output_type": "stream",
     "text": [
      "100%|██████████| 525/525 [00:05<00:00, 95.58it/s] \n"
     ]
    },
    {
     "name": "stdout",
     "output_type": "stream",
     "text": [
      "Loss = 0.025122210246821243\n",
      "Acc = 0.9802933886257826\n",
      "=======================\n",
      "Epoch 10 / 10\n"
     ]
    },
    {
     "name": "stderr",
     "output_type": "stream",
     "text": [
      "100%|██████████| 525/525 [00:05<00:00, 101.82it/s]"
     ]
    },
    {
     "name": "stdout",
     "output_type": "stream",
     "text": [
      "Loss = 0.023483062366999333\n",
      "Acc = 0.9816575572320733\n",
      "=======================\n"
     ]
    },
    {
     "name": "stderr",
     "output_type": "stream",
     "text": [
      "\n"
     ]
    }
   ],
   "source": [
    "from tqdm import tqdm\n",
    "model.train()\n",
    "for epoch in range(num_epochs): \n",
    "    print(f'Epoch {epoch+1} / {num_epochs}')\n",
    "    running_loss = 0.0 \n",
    "    acc = 0.0 \n",
    "    for a in tqdm(train_loader): \n",
    "        optimizer.zero_grad()\n",
    "        sample, labels, mask = a[0].cuda(), a[1].cuda(), a[-1].cuda()\n",
    "        outputs = model(sample)\n",
    "        loss = criterion(outputs.transpose(1,2),labels)\n",
    "        loss.backward()\n",
    "        optimizer.step()\n",
    "        running_loss += loss.item() \n",
    "        predictions = torch.argmax(outputs, dim=-1)\n",
    "        mask = labels != tag_map['<PAD>']\n",
    "        a = predictions[mask]\n",
    "        b = labels[mask]\n",
    "        accuracy = torch.sum(a == b).item() / a.shape[0]\n",
    "        acc += accuracy\n",
    "    print(f'Loss = {running_loss/len(train_loader)}')\n",
    "    print(f'Acc = {acc/len(train_loader)}')\n",
    "    print('=======================')"
   ]
  },
  {
   "cell_type": "code",
   "execution_count": 9,
   "metadata": {},
   "outputs": [
    {
     "name": "stdout",
     "output_type": "stream",
     "text": [
      "(1, 7)\n",
      "George B-per\n",
      "California B-geo\n",
      "January B-tim\n"
     ]
    }
   ],
   "source": [
    "sentence = input('Enter your sentence to get the result from NER model')\n",
    "model.eval()\n",
    "predictions = predict(sentence, model, vocab, tag_map)\n"
   ]
  }
 ],
 "metadata": {
  "kernelspec": {
   "display_name": "Python 3.8.5 ('base')",
   "language": "python",
   "name": "python3"
  },
  "language_info": {
   "codemirror_mode": {
    "name": "ipython",
    "version": 3
   },
   "file_extension": ".py",
   "mimetype": "text/x-python",
   "name": "python",
   "nbconvert_exporter": "python",
   "pygments_lexer": "ipython3",
   "version": "3.8.5"
  },
  "orig_nbformat": 4,
  "vscode": {
   "interpreter": {
    "hash": "b7218419220e21313625fe8ca6a5e4ea47516e9290d93210b1f8342f4f6247a8"
   }
  }
 },
 "nbformat": 4,
 "nbformat_minor": 2
}
